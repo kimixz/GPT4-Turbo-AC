{
  "nbformat": 4,
  "nbformat_minor": 0,
  "metadata": {
    "colab": {
      "provenance": []
    },
    "kernelspec": {
      "name": "python3",
      "display_name": "Python 3"
    },
    "language_info": {
      "name": "python"
    }
  },
  "cells": [
    {
      "cell_type": "markdown",
      "source": [
        "# Exact match or string matching measure (using fuzzy logic)"
      ],
      "metadata": {
        "id": "sQvBo6X7_I-u"
      }
    },
    {
      "cell_type": "code",
      "source": [
        "!pip install pandas\n"
      ],
      "metadata": {
        "colab": {
          "base_uri": "https://localhost:8080/"
        },
        "id": "pQvxr0xlUvOh",
        "outputId": "bb2c2475-f0a2-4e6f-d0af-60c19085eedb"
      },
      "execution_count": null,
      "outputs": [
        {
          "output_type": "stream",
          "name": "stdout",
          "text": [
            "Requirement already satisfied: pandas in /usr/local/lib/python3.10/dist-packages (1.5.3)\n",
            "Requirement already satisfied: python-dateutil>=2.8.1 in /usr/local/lib/python3.10/dist-packages (from pandas) (2.8.2)\n",
            "Requirement already satisfied: pytz>=2020.1 in /usr/local/lib/python3.10/dist-packages (from pandas) (2023.4)\n",
            "Requirement already satisfied: numpy>=1.21.0 in /usr/local/lib/python3.10/dist-packages (from pandas) (1.25.2)\n",
            "Requirement already satisfied: six>=1.5 in /usr/local/lib/python3.10/dist-packages (from python-dateutil>=2.8.1->pandas) (1.16.0)\n"
          ]
        }
      ]
    },
    {
      "cell_type": "code",
      "source": [
        "!pip install -U scikit-learn\n"
      ],
      "metadata": {
        "colab": {
          "base_uri": "https://localhost:8080/"
        },
        "id": "bW_eYPO7VldU",
        "outputId": "602b9de3-bab7-4294-e976-c75e5573e61e"
      },
      "execution_count": null,
      "outputs": [
        {
          "output_type": "stream",
          "name": "stdout",
          "text": [
            "Requirement already satisfied: scikit-learn in /usr/local/lib/python3.10/dist-packages (1.2.2)\n",
            "Collecting scikit-learn\n",
            "  Downloading scikit_learn-1.4.1.post1-cp310-cp310-manylinux_2_17_x86_64.manylinux2014_x86_64.whl (12.1 MB)\n",
            "\u001b[2K     \u001b[90m━━━━━━━━━━━━━━━━━━━━━━━━━━━━━━━━━━━━━━━━\u001b[0m \u001b[32m12.1/12.1 MB\u001b[0m \u001b[31m20.4 MB/s\u001b[0m eta \u001b[36m0:00:00\u001b[0m\n",
            "\u001b[?25hRequirement already satisfied: numpy<2.0,>=1.19.5 in /usr/local/lib/python3.10/dist-packages (from scikit-learn) (1.25.2)\n",
            "Requirement already satisfied: scipy>=1.6.0 in /usr/local/lib/python3.10/dist-packages (from scikit-learn) (1.11.4)\n",
            "Requirement already satisfied: joblib>=1.2.0 in /usr/local/lib/python3.10/dist-packages (from scikit-learn) (1.3.2)\n",
            "Requirement already satisfied: threadpoolctl>=2.0.0 in /usr/local/lib/python3.10/dist-packages (from scikit-learn) (3.3.0)\n",
            "Installing collected packages: scikit-learn\n",
            "  Attempting uninstall: scikit-learn\n",
            "    Found existing installation: scikit-learn 1.2.2\n",
            "    Uninstalling scikit-learn-1.2.2:\n",
            "      Successfully uninstalled scikit-learn-1.2.2\n",
            "Successfully installed scikit-learn-1.4.1.post1\n"
          ]
        }
      ]
    },
    {
      "cell_type": "code",
      "execution_count": null,
      "metadata": {
        "colab": {
          "base_uri": "https://localhost:8080/"
        },
        "id": "hp7lL1hd-d_k",
        "outputId": "c69c9a59-3a41-459f-e2fe-db4a5c484ac5"
      },
      "outputs": [
        {
          "output_type": "stream",
          "name": "stdout",
          "text": [
            "Collecting fuzzywuzzy\n",
            "  Downloading fuzzywuzzy-0.18.0-py2.py3-none-any.whl (18 kB)\n",
            "Requirement already satisfied: pandas in /usr/local/lib/python3.10/dist-packages (1.5.3)\n",
            "Requirement already satisfied: openpyxl in /usr/local/lib/python3.10/dist-packages (3.1.2)\n",
            "Requirement already satisfied: python-dateutil>=2.8.1 in /usr/local/lib/python3.10/dist-packages (from pandas) (2.8.2)\n",
            "Requirement already satisfied: pytz>=2020.1 in /usr/local/lib/python3.10/dist-packages (from pandas) (2023.4)\n",
            "Requirement already satisfied: numpy>=1.21.0 in /usr/local/lib/python3.10/dist-packages (from pandas) (1.25.2)\n",
            "Requirement already satisfied: et-xmlfile in /usr/local/lib/python3.10/dist-packages (from openpyxl) (1.1.0)\n",
            "Requirement already satisfied: six>=1.5 in /usr/local/lib/python3.10/dist-packages (from python-dateutil>=2.8.1->pandas) (1.16.0)\n",
            "Installing collected packages: fuzzywuzzy\n",
            "Successfully installed fuzzywuzzy-0.18.0\n"
          ]
        }
      ],
      "source": [
        "!pip install fuzzywuzzy pandas openpyxl"
      ]
    },
    {
      "cell_type": "code",
      "source": [
        "import pandas as pd\n",
        "\n",
        "file_path = '/content/RQ2-results.xlsx'\n",
        "df = pd.read_excel(file_path)\n",
        "print(df.head())"
      ],
      "metadata": {
        "colab": {
          "base_uri": "https://localhost:8080/"
        },
        "id": "uLOODP4oAroG",
        "outputId": "76a24719-1054-434a-9cd7-6023c7a0f484"
      },
      "execution_count": null,
      "outputs": [
        {
          "output_type": "stream",
          "name": "stdout",
          "text": [
            "     Experiment                                             Case 1  \\\n",
            "0  Experiment 1  @@@\\nC1({{The BIS will transmit loss of the be...   \n",
            "1  Experiment 2  @@@\\nC1({{The BIS will transmit loss of the be...   \n",
            "2  Experiment 3  @@@\\nC1({{The BIS will transmit loss of the be...   \n",
            "3  Experiment 4  @@@\\nC1({{The BIS will transmit loss of the be...   \n",
            "\n",
            "                                              Case 2  \\\n",
            "0  @@@\\nC1({{The Surface Electronics will provide...   \n",
            "1  @@@\\nC1({{The Surface Electronics will provide...   \n",
            "2  @@@\\nC1({{The Surface Electronics will provide...   \n",
            "3  @@@\\nC1({{The Surface Electronics will provide...   \n",
            "\n",
            "                                              Case 3  \\\n",
            "0  @@@\\nC1({{The magnets used to dilate the beam ...   \n",
            "1  @@@\\nC1({{The magnets used to dilate the beam ...   \n",
            "2  @@@\\nC1({{The magnets used to dilute the beam ...   \n",
            "3  @@@\\nC1({{The magnets used to dilute the beam ...   \n",
            "\n",
            "                                              Case 4  \\\n",
            "0  @@@\\nC1({{MKD magnet activation takes no more ...   \n",
            "1  @@@\\nC1({{MKD magnet activation takes no more ...   \n",
            "2  @@@\\nC1({{MKD magnet activation takes no more ...   \n",
            "3  @@@\\nC1({{MKD magnet activation takes no more ...   \n",
            "\n",
            "                                              Case 5  \\\n",
            "0  @@@\\nC1({{When active, the MKD kicker magnets ...   \n",
            "1  @@@\\nC1({{When active, the MKD kicker magnets ...   \n",
            "2  @@@\\nC1({{When active, the MKD kicker magnets ...   \n",
            "3  @@@\\nC1({{When active, the MKD kicker magnets ...   \n",
            "\n",
            "                                              Case 6  \\\n",
            "0  @@@\\nIR1({{If the SMP appropriately sets the p...   \n",
            "1  @@@\\nIR1({{If the SMP appropriately sets the p...   \n",
            "2  @@@\\nIR1({{If the SMP appropriately sets the p...   \n",
            "3  @@@\\nC1({{The likelihood of spurious beam dump...   \n",
            "\n",
            "                                              Case 7  \\\n",
            "0  @@@\\nC1({{The BIS will withdraw the beam permi...   \n",
            "1  @@@\\nC1({{The BIS will withdraw the beam permi...   \n",
            "2  @@@\\nC1({{The BIS will withdraw the beam permi...   \n",
            "3  @@@\\nC1({{The BIS will withdraw the beam permi...   \n",
            "\n",
            "                                              Case 8  \\\n",
            "0  @@@\\nC1({{The BIS is built to logically AND al...   \n",
            "1  @@@\\nC1({{The BIS is built to logically AND al...   \n",
            "2  @@@\\nC1({{The BIS is built to logically AND al...   \n",
            "3  @@@\\nC1({{The BIS is built to logically AND al...   \n",
            "\n",
            "                                              Case 9  \n",
            "0  @@@\\nC1({{Duplication among assigned discrete ...  \n",
            "1  @@@\\nC1({{Duplication among assigned discrete ...  \n",
            "2  C1({{Duplication among assigned discrete SSR c...  \n",
            "3  @@@\\nC1({{Duplication among assigned discrete ...  \n"
          ]
        }
      ]
    },
    {
      "cell_type": "code",
      "source": [
        "file_path2 = '/content/groundtruth.xlsx'\n",
        "ground_truth_df = pd.read_excel(file_path2)\n",
        "print(ground_truth_df.head())"
      ],
      "metadata": {
        "colab": {
          "base_uri": "https://localhost:8080/"
        },
        "id": "KPF_Kv3UDfDn",
        "outputId": "d0b7aa89-3e74-4fab-d3b7-319560c30949"
      },
      "execution_count": null,
      "outputs": [
        {
          "output_type": "stream",
          "name": "stdout",
          "text": [
            "     Case                                                 AC  \\\n",
            "0  Case 1  @@@\\nC1({{The BIS will transmit loss of the be...   \n",
            "1  Case 2  @@@\\nC1({{The Surface Electronics will provide...   \n",
            "2  Case 3  @@@\\nC1({{The magnets used to dilute the beam ...   \n",
            "3  Case 4  @@@\\nC1({{MKD magnet activation takes no more ...   \n",
            "4  Case 5  @@@\\nC1({{When active, the MKD kicker magnets ...   \n",
            "\n",
            "                                           Defeaters  \n",
            "0  R : Unless the beam loop is damaged in a way t...  \n",
            "1  R : Unless the Surface Electronics fails to wi...  \n",
            "2  UM : Unless a malfunction, either in the MKB m...  \n",
            "3  UM : Unless a malfunction, either in the MKB i...  \n",
            "4  R : Unless the MKD loses connection to its pow...  \n"
          ]
        }
      ]
    },
    {
      "cell_type": "code",
      "source": [
        "from fuzzywuzzy import fuzz\n",
        "\n",
        "\n",
        "for index, experiment_row in df.iterrows():\n",
        "    for case in ['Case 1', 'Case 2', 'Case 3', 'Case 4', 'Case 5', 'Case 6', 'Case 7', 'Case 8' , 'Case 9']:\n",
        "        experiment_text = experiment_row[case]\n",
        "        ground_truth_text = ground_truth_df.loc[ground_truth_df['Case'] == case, 'AC'].iloc[0]\n",
        "        similarity_score = fuzz.ratio(experiment_text, ground_truth_text)/ 100.0\n",
        "\n",
        "        print(f\"Similarity score for {case} in {experiment_row['Experiment']}: {similarity_score}\")\n",
        "    print(\"-------\")"
      ],
      "metadata": {
        "colab": {
          "base_uri": "https://localhost:8080/"
        },
        "id": "B6LKU0_OAa4G",
        "outputId": "befc4b1e-0621-4faa-9b0b-5ade448e177a"
      },
      "execution_count": null,
      "outputs": [
        {
          "output_type": "stream",
          "name": "stdout",
          "text": [
            "Similarity score for Case 1 in Experiment 1: 0.58\n",
            "Similarity score for Case 2 in Experiment 1: 0.48\n",
            "Similarity score for Case 3 in Experiment 1: 0.7\n",
            "Similarity score for Case 4 in Experiment 1: 0.64\n",
            "Similarity score for Case 5 in Experiment 1: 0.51\n",
            "Similarity score for Case 6 in Experiment 1: 0.64\n",
            "Similarity score for Case 7 in Experiment 1: 0.56\n",
            "Similarity score for Case 8 in Experiment 1: 0.37\n",
            "Similarity score for Case 9 in Experiment 1: 0.42\n",
            "-------\n",
            "Similarity score for Case 1 in Experiment 2: 0.6\n",
            "Similarity score for Case 2 in Experiment 2: 0.56\n",
            "Similarity score for Case 3 in Experiment 2: 0.73\n",
            "Similarity score for Case 4 in Experiment 2: 0.73\n",
            "Similarity score for Case 5 in Experiment 2: 0.57\n",
            "Similarity score for Case 6 in Experiment 2: 0.63\n",
            "Similarity score for Case 7 in Experiment 2: 0.6\n",
            "Similarity score for Case 8 in Experiment 2: 0.38\n",
            "Similarity score for Case 9 in Experiment 2: 0.46\n",
            "-------\n",
            "Similarity score for Case 1 in Experiment 3: 0.57\n",
            "Similarity score for Case 2 in Experiment 3: 0.56\n",
            "Similarity score for Case 3 in Experiment 3: 0.56\n",
            "Similarity score for Case 4 in Experiment 3: 0.74\n",
            "Similarity score for Case 5 in Experiment 3: 0.2\n",
            "Similarity score for Case 6 in Experiment 3: 0.6\n",
            "Similarity score for Case 7 in Experiment 3: 0.55\n",
            "Similarity score for Case 8 in Experiment 3: 0.37\n",
            "Similarity score for Case 9 in Experiment 3: 0.42\n",
            "-------\n",
            "Similarity score for Case 1 in Experiment 4: 0.55\n",
            "Similarity score for Case 2 in Experiment 4: 0.41\n",
            "Similarity score for Case 3 in Experiment 4: 0.63\n",
            "Similarity score for Case 4 in Experiment 4: 0.62\n",
            "Similarity score for Case 5 in Experiment 4: 0.49\n",
            "Similarity score for Case 6 in Experiment 4: 0.53\n",
            "Similarity score for Case 7 in Experiment 4: 0.21\n",
            "Similarity score for Case 8 in Experiment 4: 0.26\n",
            "Similarity score for Case 9 in Experiment 4: 0.44\n",
            "-------\n"
          ]
        }
      ]
    },
    {
      "cell_type": "markdown",
      "source": [
        "# Bleu score"
      ],
      "metadata": {
        "id": "c2PR55zj_SZ0"
      }
    },
    {
      "cell_type": "code",
      "source": [
        "!pip install sacrebleu"
      ],
      "metadata": {
        "colab": {
          "base_uri": "https://localhost:8080/"
        },
        "id": "HVnOQjb1FjX6",
        "outputId": "98c84a93-a3a8-4393-fef9-837939c5871d"
      },
      "execution_count": null,
      "outputs": [
        {
          "output_type": "stream",
          "name": "stdout",
          "text": [
            "Collecting sacrebleu\n",
            "  Downloading sacrebleu-2.4.0-py3-none-any.whl (106 kB)\n",
            "\u001b[2K     \u001b[90m━━━━━━━━━━━━━━━━━━━━━━━━━━━━━━━━━━━━━━━━\u001b[0m \u001b[32m106.3/106.3 kB\u001b[0m \u001b[31m2.0 MB/s\u001b[0m eta \u001b[36m0:00:00\u001b[0m\n",
            "\u001b[?25hCollecting portalocker (from sacrebleu)\n",
            "  Downloading portalocker-2.8.2-py3-none-any.whl (17 kB)\n",
            "Requirement already satisfied: regex in /usr/local/lib/python3.10/dist-packages (from sacrebleu) (2023.12.25)\n",
            "Requirement already satisfied: tabulate>=0.8.9 in /usr/local/lib/python3.10/dist-packages (from sacrebleu) (0.9.0)\n",
            "Requirement already satisfied: numpy>=1.17 in /usr/local/lib/python3.10/dist-packages (from sacrebleu) (1.25.2)\n",
            "Collecting colorama (from sacrebleu)\n",
            "  Downloading colorama-0.4.6-py2.py3-none-any.whl (25 kB)\n",
            "Requirement already satisfied: lxml in /usr/local/lib/python3.10/dist-packages (from sacrebleu) (4.9.4)\n",
            "Installing collected packages: portalocker, colorama, sacrebleu\n",
            "Successfully installed colorama-0.4.6 portalocker-2.8.2 sacrebleu-2.4.0\n"
          ]
        }
      ]
    },
    {
      "cell_type": "code",
      "source": [
        "import sacrebleu\n",
        "\n",
        "def calculate_bleu_score(experiment_text, ground_truth_text):\n",
        "    references = [[ground_truth_text]]\n",
        "    system_output = [experiment_text]\n",
        "    bleu = sacrebleu.corpus_bleu(system_output, references)\n",
        "    # Scale the score to a range between 0 and 1 and round to two decimal points\n",
        "    return round(bleu.score / 100, 2)\n",
        "\n",
        "for case in ['Case 1', 'Case 2', 'Case 3', 'Case 4', 'Case 5', 'Case 6', 'Case 7', 'Case 8' , 'Case 9']:\n",
        "    print(f\"Calculating BLEU scores for {case}:\")\n",
        "    for index, row in df.iterrows():\n",
        "        experiment_text = row[case]\n",
        "        ground_truth_text = ground_truth_df.loc[ground_truth_df['Case'] == case, 'AC'].iloc[0]\n",
        "\n",
        "        if pd.notnull(experiment_text) and pd.notnull(ground_truth_text):\n",
        "            bleu_score = calculate_bleu_score(experiment_text, ground_truth_text)\n",
        "            print(f\"Experiment {index + 1} BLEU score: {bleu_score}\")\n",
        "        else:\n",
        "            print(f\"Experiment {index + 1} BLEU score: Data Missing\")\n",
        "    print(\"-------\")\n"
      ],
      "metadata": {
        "colab": {
          "base_uri": "https://localhost:8080/"
        },
        "id": "LB8Rfz66FrQF",
        "outputId": "ac327bd0-f5bb-450e-ef95-77dfa24e7baf"
      },
      "execution_count": null,
      "outputs": [
        {
          "output_type": "stream",
          "name": "stdout",
          "text": [
            "Calculating BLEU scores for Case 1:\n",
            "Experiment 1 BLEU score: 0.21\n",
            "Experiment 2 BLEU score: 0.31\n",
            "Experiment 3 BLEU score: 0.34\n",
            "Experiment 4 BLEU score: 0.3\n",
            "-------\n",
            "Calculating BLEU scores for Case 2:\n",
            "Experiment 1 BLEU score: 0.18\n",
            "Experiment 2 BLEU score: 0.31\n",
            "Experiment 3 BLEU score: 0.33\n",
            "Experiment 4 BLEU score: 0.5\n",
            "-------\n",
            "Calculating BLEU scores for Case 3:\n",
            "Experiment 1 BLEU score: 0.7\n",
            "Experiment 2 BLEU score: 0.72\n",
            "Experiment 3 BLEU score: 0.46\n",
            "Experiment 4 BLEU score: 0.59\n",
            "-------\n",
            "Calculating BLEU scores for Case 4:\n",
            "Experiment 1 BLEU score: 0.69\n",
            "Experiment 2 BLEU score: 0.68\n",
            "Experiment 3 BLEU score: 0.68\n",
            "Experiment 4 BLEU score: 0.59\n",
            "-------\n",
            "Calculating BLEU scores for Case 5:\n",
            "Experiment 1 BLEU score: 0.15\n",
            "Experiment 2 BLEU score: 0.37\n",
            "Experiment 3 BLEU score: 0.16\n",
            "Experiment 4 BLEU score: 0.51\n",
            "-------\n",
            "Calculating BLEU scores for Case 6:\n",
            "Experiment 1 BLEU score: 0.6\n",
            "Experiment 2 BLEU score: 0.58\n",
            "Experiment 3 BLEU score: 0.54\n",
            "Experiment 4 BLEU score: 0.43\n",
            "-------\n",
            "Calculating BLEU scores for Case 7:\n",
            "Experiment 1 BLEU score: 0.25\n",
            "Experiment 2 BLEU score: 0.48\n",
            "Experiment 3 BLEU score: 0.52\n",
            "Experiment 4 BLEU score: 0.13\n",
            "-------\n",
            "Calculating BLEU scores for Case 8:\n",
            "Experiment 1 BLEU score: 0.07\n",
            "Experiment 2 BLEU score: 0.1\n",
            "Experiment 3 BLEU score: 0.23\n",
            "Experiment 4 BLEU score: 0.34\n",
            "-------\n",
            "Calculating BLEU scores for Case 9:\n",
            "Experiment 1 BLEU score: 0.11\n",
            "Experiment 2 BLEU score: 0.31\n",
            "Experiment 3 BLEU score: 0.13\n",
            "Experiment 4 BLEU score: 0.31\n",
            "-------\n"
          ]
        }
      ]
    },
    {
      "cell_type": "markdown",
      "source": [
        "# Semantic Similarity"
      ],
      "metadata": {
        "id": "LTOZsDdi_U4O"
      }
    },
    {
      "cell_type": "code",
      "source": [
        "from sklearn.feature_extraction.text import TfidfVectorizer\n",
        "from sklearn.metrics.pairwise import cosine_similarity\n",
        "\n",
        "vectorizer = TfidfVectorizer()\n",
        "\n",
        "for case in ['Case 1', 'Case 2', 'Case 3', 'Case 4', 'Case 5', 'Case 6', 'Case 7', 'Case 8', 'Case 9']:\n",
        "    experiment_texts = df[case].tolist()\n",
        "    ground_truth_text = ground_truth_df.loc[ground_truth_df['Case'] == case, 'AC'].iloc[0]\n",
        "\n",
        "    combined_texts = experiment_texts + [ground_truth_text]\n",
        "\n",
        "    tfidf_matrix = vectorizer.fit_transform(combined_texts)\n",
        "\n",
        "    experiment_vectors = tfidf_matrix[:-1]\n",
        "    ground_truth_vector = tfidf_matrix[-1:]\n",
        "\n",
        "    cosine_similarities = cosine_similarity(experiment_vectors, ground_truth_vector)\n",
        "\n",
        "    for i, similarity_score in enumerate(cosine_similarities.flatten(), 1):\n",
        "        # Round the score to two decimal places without multiplying by 100\n",
        "        rounded_score = round(similarity_score, 2)\n",
        "        print(f\"Cosine similarity for {case}, Experiment {i}: {rounded_score}\")\n",
        "    print(\"-------\")\n"
      ],
      "metadata": {
        "colab": {
          "base_uri": "https://localhost:8080/"
        },
        "id": "PyZZbeVaHS1F",
        "outputId": "0bced822-c7a6-4e46-e766-d65f9ed91642"
      },
      "execution_count": null,
      "outputs": [
        {
          "output_type": "stream",
          "name": "stdout",
          "text": [
            "Cosine similarity for Case 1, Experiment 1: 0.78\n",
            "Cosine similarity for Case 1, Experiment 2: 0.75\n",
            "Cosine similarity for Case 1, Experiment 3: 0.68\n",
            "Cosine similarity for Case 1, Experiment 4: 0.76\n",
            "-------\n",
            "Cosine similarity for Case 2, Experiment 1: 0.7\n",
            "Cosine similarity for Case 2, Experiment 2: 0.74\n",
            "Cosine similarity for Case 2, Experiment 3: 0.7\n",
            "Cosine similarity for Case 2, Experiment 4: 0.68\n",
            "-------\n",
            "Cosine similarity for Case 3, Experiment 1: 0.73\n",
            "Cosine similarity for Case 3, Experiment 2: 0.7\n",
            "Cosine similarity for Case 3, Experiment 3: 0.64\n",
            "Cosine similarity for Case 3, Experiment 4: 0.68\n",
            "-------\n",
            "Cosine similarity for Case 4, Experiment 1: 0.59\n",
            "Cosine similarity for Case 4, Experiment 2: 0.6\n",
            "Cosine similarity for Case 4, Experiment 3: 0.56\n",
            "Cosine similarity for Case 4, Experiment 4: 0.58\n",
            "-------\n",
            "Cosine similarity for Case 5, Experiment 1: 0.54\n",
            "Cosine similarity for Case 5, Experiment 2: 0.55\n",
            "Cosine similarity for Case 5, Experiment 3: 0.37\n",
            "Cosine similarity for Case 5, Experiment 4: 0.61\n",
            "-------\n",
            "Cosine similarity for Case 6, Experiment 1: 0.75\n",
            "Cosine similarity for Case 6, Experiment 2: 0.74\n",
            "Cosine similarity for Case 6, Experiment 3: 0.72\n",
            "Cosine similarity for Case 6, Experiment 4: 0.71\n",
            "-------\n",
            "Cosine similarity for Case 7, Experiment 1: 0.57\n",
            "Cosine similarity for Case 7, Experiment 2: 0.54\n",
            "Cosine similarity for Case 7, Experiment 3: 0.57\n",
            "Cosine similarity for Case 7, Experiment 4: 0.43\n",
            "-------\n",
            "Cosine similarity for Case 8, Experiment 1: 0.54\n",
            "Cosine similarity for Case 8, Experiment 2: 0.48\n",
            "Cosine similarity for Case 8, Experiment 3: 0.46\n",
            "Cosine similarity for Case 8, Experiment 4: 0.42\n",
            "-------\n",
            "Cosine similarity for Case 9, Experiment 1: 0.32\n",
            "Cosine similarity for Case 9, Experiment 2: 0.35\n",
            "Cosine similarity for Case 9, Experiment 3: 0.28\n",
            "Cosine similarity for Case 9, Experiment 4: 0.43\n",
            "-------\n"
          ]
        }
      ]
    }
  ]
}